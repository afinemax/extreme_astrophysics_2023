{
 "cells": [
  {
   "cell_type": "markdown",
   "id": "9849f112",
   "metadata": {},
   "source": [
    "# Problem 1f:\n",
    "\n",
    "Code this problem up by dividing your jet into slices (making sure you use even bins\n",
    "in logarithmic space!) , loop through the slices and calculate the spectum from each slice,\n",
    "then add to a total spectrum for the entire jet (or technically both jets). Ideally you will\n",
    "plot each component as well as the total to check that your νSSA is doing what you expect.\n",
    "To test your code, use an accretion power appropriate for Sgr A*, r0 = 10rg and v = 0.3c\n",
    "(but at this point don’t Lorentz transform anything, it’s not relativistic enough to be a huge\n",
    "effect). Normalise your initial Lj such that either Fν in Janskys (10−23 erg/cm−2/s/Hz) or\n",
    "total power per frequency bin (erg/s/Hz) matches the values for Sgr A* at 1012 Hz."
   ]
  },
  {
   "cell_type": "markdown",
   "id": "cc78c08f",
   "metadata": {},
   "source": []
  },
  {
   "cell_type": "code",
   "execution_count": 126,
   "id": "e7e98446",
   "metadata": {},
   "outputs": [],
   "source": [
    "import numpy as np\n",
    "import matplotlib.pyplot as plt\n",
    "from scipy.special import gamma\n",
    "import math\n",
    "from scipy.special import gamma\n",
    "from matplotlib import cm"
   ]
  },
  {
   "cell_type": "markdown",
   "id": "ae7a769b",
   "metadata": {},
   "source": [
    "Begin by defining all the constants we need in cgs units"
   ]
  },
  {
   "cell_type": "code",
   "execution_count": 127,
   "id": "dc8423d1",
   "metadata": {},
   "outputs": [],
   "source": [
    "# define some constants\n",
    "M = 4.2E6            # Mass of Sgr A* in M_sun\n",
    "M_sun = 1.988e33     # Solar mass in g\n",
    "Ledd = 1.26e38 * M   # Eddington luminosity in erg/s\n",
    "c = 2.997e10         # Speed of light in vaccum in cm/s\n",
    "G = 6.67e-8          # Gravitational constant in erg cm/g^2\n",
    "rg = G*M*M_sun/c**2  # Gravitational radius in cm\n",
    "me = 9.1e-28         # Electron mass in g\n",
    "m_e = me\n",
    "e = 4.8e-10          # Electron charge in esu\n",
    "eta = 1e-7           # radiative efficiency\n",
    "R0 = 10*rg           # beginning radius of the blob in cm\n",
    "gam = 1000           # we know this from measurements\n",
    "p = 2                # power law index\n",
    "omega = 2*np.pi*nu   # angular frequency\n",
    "D = 26670*9.461e+17  # Distance to Sgr A* in cm\n",
    "\n",
    "erg_to_jy = 1e23\n",
    "\n",
    "\n",
    "#\n",
    "\n",
    "\n"
   ]
  },
  {
   "cell_type": "code",
   "execution_count": 128,
   "metadata": {},
   "outputs": [],
   "source": [
    "eta_values = np.linspace(0.1, 1.5, 5) # no units\n",
    "r_values = np.logspace(0, 3, 500)* rg #rg in cm\n",
    "freq_arr = np.logspace(7, 14, 500) # hz\n",
    "dr_values = np.ediff1d(r_values) # fancy \n",
    "\n",
    "theta = math.radians(10)  #opening angle of 10 degrees converted to radiants \n",
    "v = 0.3 * c  # (cm/s)\n",
    "L_j = 9e37  # Accretion power (erg/s)"
   ]
  },
  {
   "cell_type": "markdown",
   "id": "73598d66",
   "metadata": {},
   "source": [
    "## Functions\n",
    "Lets also take each of the equations and make them into functions so that we can verify each of them works as expected with a given input.\n",
    "\n"
   ]
  },
  {
   "cell_type": "code",
   "execution_count": 145,
   "metadata": {},
   "outputs": [],
   "source": [
    "\n",
    "def magnetic_field_strength(distance):\n",
    "    \"\"\"\n",
    "    Calculate the magnetic field strength.\n",
    "\n",
    "    Parameters:\n",
    "    - distance (float): Distance from the source.\n",
    "\n",
    "    Returns:\n",
    "    float: Magnetic field strength.\n",
    "    \"\"\"\n",
    "    return np.sqrt(L_j / v) * 1 / distance \n",
    "\n",
    "\n",
    "def constant_parameter(distance):\n",
    "    \"\"\"\n",
    "    Calculate a constant parameter C.\n",
    "\n",
    "    Parameters:\n",
    "    - distance (float): Distance above the source.\n",
    "\n",
    "    Returns:\n",
    "    float: Constant parameter C.\n",
    "    \"\"\"\n",
    "    return (magnetic_field_strength(distance))**2 / (24 * np.log(10) * np.pi)\n",
    "\n",
    "\n",
    "def synchrotron_emission_coef(distance, frequency, power_law_index):\n",
    "    \"\"\"\n",
    "    Calculate the synchrotron emission coefficient.\n",
    "\n",
    "    Parameters:\n",
    "    - distance (float): Distance above the source.\n",
    "    - frequency (float): Frequency.\n",
    "    - power_law_index (float): Power-law index.\n",
    "\n",
    "    Returns:\n",
    "    float: Synchrotron spectral index.\n",
    "    \"\"\"\n",
    "    part1 = np.sqrt(3) * e**3 / (8 * np.pi * m_e)\n",
    "    part2 = (3 * e / (2 * np.pi * m_e**3 * c**5))**(power_law_index/2)\n",
    "    part3 = constant_parameter(distance) * (magnetic_field_strength(distance)/2)**((power_law_index+2)/2) * gamma((3*power_law_index + 2)/12)\n",
    "    part4 = gamma((3*power_law_index + 22)/12) * frequency**((-power_law_index-4)/2)\n",
    "    return part1 * part2 * part3 * part4\n",
    "\n",
    "\n",
    "def optical_depth(distance, frequency, power_law_index):\n",
    "    \"\"\"\n",
    "    Calculate the optical depth.\n",
    "\n",
    "    Parameters:\n",
    "    - distance (float): Distance above the source.\n",
    "    - frequency (float): Frequency.\n",
    "    - power_law_index (float): Power-law index.\n",
    "\n",
    "    Returns:\n",
    "    float: Optical depth.\n",
    "    \"\"\"\n",
    "    return synchrotron_emission_coef(distance, frequency, power_law_index) * distance\n",
    "\n",
    "\n",
    "def synchrotron_power(distance, frequency, power_law_index):\n",
    "    \"\"\"\n",
    "    Calculate the synchrotron power.\n",
    "\n",
    "    Parameters:\n",
    "    - distance (float): Distance above the source\n",
    "    - frequency (float): Frequency.\n",
    "    - power_law_index (float): Power-law index.\n",
    "\n",
    "    Returns:\n",
    "    float: Synchrotron power.\n",
    "    \"\"\"\n",
    "    part1 = np.sqrt(3) * e**3 * constant_parameter(distance) / (m_e * c**2) * magnetic_field_strength(distance) / (2 * m_e * c**2 * (power_law_index+1))\n",
    "    part2 = gamma(power_law_index/4 + 19/12) * gamma(power_law_index/4 - 1/12) * (4 * np.pi * m_e * c * frequency/(3 * e * magnetic_field_strength(distance)))**((1-power_law_index)/2)\n",
    "    return part1 * part2\n",
    "\n",
    "\n",
    "def S_freq(distance, frequency, power_law_index):\n",
    "    \"\"\"\n",
    "    Calculate the synchrotron source function.\n",
    "\n",
    "    Parameters:\n",
    "    - distance (float): Distance above the source.\n",
    "    - frequency (float): Frequency.\n",
    "    - power_law_index (float): Power-law index.\n",
    "\n",
    "    Returns:\n",
    "    float: Synchrotron source function.\n",
    "    \"\"\"\n",
    "    return synchrotron_power(distance, frequency, power_law_index)/(4 * np.pi * synchrotron_emission_coef(distance, frequency, power_law_index))\n",
    "    \n",
    "\n",
    "def I_freq(distance, frequency, power_law_index):\n",
    "    \"\"\"\n",
    "    Calculate the synchrotron intensity.\n",
    "\n",
    "    Parameters:\n",
    "    - distance (float): Distance above the source.\n",
    "    - frequency (float): Frequency.\n",
    "    - power_law_index (float): Power-law index.\n",
    "\n",
    "    Returns:\n",
    "    float: Synchrotron intensity.\n",
    "    \"\"\"\n",
    "    return S_freq(distance, frequency, power_law_index) * (1 - np.exp(-optical_depth(distance, frequency, power_law_index)))\n",
    "\n",
    "def flux(distance, frequency, power_law_index, differential_distance, target_distance):\n",
    "    \"\"\"\n",
    "    Calculate the synchrotron flux.\n",
    "\n",
    "    Parameters:\n",
    "    - distance (float): Distance above the source\n",
    "    - frequency (float): Frequency.\n",
    "    - power_law_index (float): Power-law index.\n",
    "    - differential_distance (float): Differential distance.\n",
    "    - target_distance (float): Distance to the target. \n",
    "\n",
    "    Returns:\n",
    "    float: Synchrotron flux in ergs (CGS Units).\n",
    "    \"\"\"\n",
    "    return  I_freq(distance, frequency, power_law_index) * distance * differential_distance * np.tan(theta/2) /(  4 * target_distance**2)\n"
   ]
  },
  {
   "cell_type": "code",
   "execution_count": 146,
   "metadata": {},
   "outputs": [
    {
     "data": {
      "image/png": "[encoded data removed]",
      "text/plain": [
       "<Figure size 576x432 with 1 Axes>"
      ]
     },
     "metadata": {
      "needs_background": "light"
     },
     "output_type": "display_data"
    }
   ],
   "source": [
    "total_flux = np.zeros(len(freq_arr,)) # initalize \n",
    "for i, (r, dr) in enumerate(zip(r_values, np.ediff1d(r_values))): # fancy\n",
    "    flux_values = flux(r, freq_arr, 2, dr, D)  * erg_to_jy\n",
    "    total_flux += flux_values\n",
    "\n",
    "plt.figure(figsize=(8,6))\n",
    "plt.plot(nu_values, total_flux, color='green',)\n",
    "plt.xlabel('Frequency (Hz)', size = 15)\n",
    "plt.ylabel('Flux (Jy)', size = 15)\n",
    "plt.xscale('log')\n",
    "plt.yscale('log')\n",
    "plt.xticks(size=15)\n",
    "plt.yticks(size=14)\n",
    "plt.title(r'Flux vs Frequency', size = 16)\n",
    "plt.show()"
   ]
  },
  {
   "cell_type": "markdown",
   "metadata": {},
   "source": [
    "## Problem 2C:\n",
    "\n",
    "rip :((\n"
   ]
  },
  {
   "cell_type": "code",
   "execution_count": 92,
   "id": "901dca35",
   "metadata": {},
   "outputs": [],
   "source": [
    "rip :(("
   ]
  },
  {
   "cell_type": "code",
   "execution_count": null,
   "id": "2d9719c8",
   "metadata": {},
   "outputs": [],
   "source": []
  },
  {
   "cell_type": "code",
   "execution_count": null,
   "id": "b0a2697f",
   "metadata": {},
   "outputs": [],
   "source": []
  },
  {
   "cell_type": "code",
   "execution_count": 6,
   "id": "fd108c2f",
   "metadata": {},
   "outputs": [],
   "source": []
  },
  {
   "cell_type": "code",
   "execution_count": 7,
   "id": "a50b94ed",
   "metadata": {},
   "outputs": [],
   "source": []
  },
  {
   "cell_type": "markdown",
   "id": "8e147d79",
   "metadata": {},
   "source": []
  },
  {
   "cell_type": "code",
   "execution_count": 8,
   "id": "5a887061",
   "metadata": {},
   "outputs": [],
   "source": []
  },
  {
   "cell_type": "markdown",
   "id": "645f576d",
   "metadata": {},
   "source": []
  },
  {
   "cell_type": "code",
   "execution_count": 9,
   "id": "2438062f",
   "metadata": {},
   "outputs": [],
   "source": []
  },
  {
   "cell_type": "markdown",
   "id": "7fcb2aca",
   "metadata": {},
   "source": []
  },
  {
   "cell_type": "code",
   "execution_count": null,
   "id": "9a57a8dd",
   "metadata": {},
   "outputs": [],
   "source": []
  },
  {
   "cell_type": "markdown",
   "id": "5f282252",
   "metadata": {},
   "source": []
  },
  {
   "cell_type": "code",
   "execution_count": 11,
   "id": "7146da0c",
   "metadata": {},
   "outputs": [],
   "source": []
  },
  {
   "cell_type": "code",
   "execution_count": 12,
   "id": "cb42462f",
   "metadata": {},
   "outputs": [],
   "source": []
  },
  {
   "cell_type": "code",
   "execution_count": 13,
   "id": "450a8569",
   "metadata": {},
   "outputs": [],
   "source": []
  },
  {
   "cell_type": "code",
   "execution_count": 14,
   "id": "541fc735",
   "metadata": {},
   "outputs": [],
   "source": []
  },
  {
   "cell_type": "code",
   "execution_count": 15,
   "id": "f2e65b0a",
   "metadata": {},
   "outputs": [],
   "source": []
  },
  {
   "cell_type": "code",
   "execution_count": 16,
   "id": "5deb4434",
   "metadata": {},
   "outputs": [],
   "source": []
  },
  {
   "cell_type": "code",
   "execution_count": null,
   "id": "94667a7f",
   "metadata": {
    "scrolled": true
   },
   "outputs": [],
   "source": []
  },
  {
   "cell_type": "code",
   "execution_count": null,
   "metadata": {},
   "outputs": [],
   "source": []
  }
 ],
 "metadata": {
  "kernelspec": {
   "display_name": "Python 3 (ipykernel)",
   "language": "python",
   "name": "python3"
  },
  "language_info": {
   "codemirror_mode": {
    "name": "ipython",
    "version": 3
   },
   "file_extension": ".py",
   "mimetype": "text/x-python",
   "name": "python",
   "nbconvert_exporter": "python",
   "pygments_lexer": "ipython3",
   "version": "3.9.12"
  }
 },
 "nbformat": 4,
 "nbformat_minor": 5
}
